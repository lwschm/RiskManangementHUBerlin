{
 "cells": [
  {
   "cell_type": "code",
   "execution_count": 46,
   "metadata": {},
   "outputs": [],
   "source": [
    "import pandas as pd\n",
    "import numpy as np\n",
    "import matplotlib.pyplot as plt\n",
    "import seaborn as sns\n",
    "from scipy.stats import norm\n",
    "from statsmodels.robust.robust_linear_model import RLM\n"
   ]
  },
  {
   "cell_type": "code",
   "execution_count": 47,
   "metadata": {},
   "outputs": [],
   "source": [
    "# set seed and current working directory\n",
    "np.random.seed(123)\n",
    "\n",
    "# current working directory\n",
    "import os\n",
    "os.getcwd()\n",
    "os.chdir('/home/schmilor/GitHub/RiskManangementHUBerlin/')\n",
    "\n"
   ]
  },
  {
   "cell_type": "markdown",
   "metadata": {},
   "source": [
    "## Introduction\n",
    "\n",
    "Index insurances for yield risk management can be used to protect farmers from yield losses due to weather events. The index insurance is based on a weather index, such as the number of days with precipitation above a certain threshold. The insurance pays out if the index value exceeds a certain threshold. The insurance is designed to be simple and transparent, and to reduce the costs of traditional insurance.\n",
    "\n",
    "Types of index insurance:\n",
    "- Area-yield index insurance: the index is based on the average yield of a group of farmers in a certain area.\t\n",
    "- Weather index insurance: the index is based on weather data, such as temperature, precipitation, or humidity.\n",
    "\n",
    "The main steps to design an index insurance are:\n",
    "1. Define the index: select the index, the threshold, and the payout function.\n",
    "2. Collect data: collect historical data on the index and the payouts.\n",
    "3. Estimate the parameters: estimate the parameters of the index and the payouts.\n",
    "4. Validate the model: validate the model using historical data.\n",
    "5. Design the insurance: design the insurance contract, including the premium and the coverage.\n",
    "6. Implement the insurance: implement the insurance contract and market it to farmers.\n",
    "\n",
    "\n",
    "\n",
    "## Data\n",
    "First, we load the dataset and select the relevant variables.\n"
   ]
  },
  {
   "cell_type": "code",
   "execution_count": 48,
   "metadata": {},
   "outputs": [],
   "source": [
    "# Load the dataset\n",
    "data = pd.read_csv('data/Final_data.csv')"
   ]
  },
  {
   "cell_type": "code",
   "execution_count": 49,
   "metadata": {},
   "outputs": [
    {
     "data": {
      "text/html": [
       "<div>\n",
       "<style scoped>\n",
       "    .dataframe tbody tr th:only-of-type {\n",
       "        vertical-align: middle;\n",
       "    }\n",
       "\n",
       "    .dataframe tbody tr th {\n",
       "        vertical-align: top;\n",
       "    }\n",
       "\n",
       "    .dataframe thead th {\n",
       "        text-align: right;\n",
       "    }\n",
       "</style>\n",
       "<table border=\"1\" class=\"dataframe\">\n",
       "  <thead>\n",
       "    <tr style=\"text-align: right;\">\n",
       "      <th></th>\n",
       "      <th>district_no</th>\n",
       "      <th>district</th>\n",
       "      <th>nuts_id</th>\n",
       "      <th>year</th>\n",
       "      <th>var</th>\n",
       "      <th>measure</th>\n",
       "      <th>value</th>\n",
       "      <th>outlier</th>\n",
       "    </tr>\n",
       "  </thead>\n",
       "  <tbody>\n",
       "    <tr>\n",
       "      <th>0</th>\n",
       "      <td>1001</td>\n",
       "      <td>Flensburg, kreisfreie Stadt</td>\n",
       "      <td>DEF01</td>\n",
       "      <td>1979</td>\n",
       "      <td>ArabLand</td>\n",
       "      <td>area</td>\n",
       "      <td>891.0</td>\n",
       "      <td>0</td>\n",
       "    </tr>\n",
       "    <tr>\n",
       "      <th>1</th>\n",
       "      <td>1001</td>\n",
       "      <td>Flensburg, kreisfreie Stadt</td>\n",
       "      <td>DEF01</td>\n",
       "      <td>1979</td>\n",
       "      <td>district</td>\n",
       "      <td>area</td>\n",
       "      <td>5673.0</td>\n",
       "      <td>0</td>\n",
       "    </tr>\n",
       "    <tr>\n",
       "      <th>2</th>\n",
       "      <td>1001</td>\n",
       "      <td>Flensburg, kreisfreie Stadt</td>\n",
       "      <td>DEF01</td>\n",
       "      <td>1979</td>\n",
       "      <td>grain_maize</td>\n",
       "      <td>area</td>\n",
       "      <td>NaN</td>\n",
       "      <td>0</td>\n",
       "    </tr>\n",
       "    <tr>\n",
       "      <th>3</th>\n",
       "      <td>1001</td>\n",
       "      <td>Flensburg, kreisfreie Stadt</td>\n",
       "      <td>DEF01</td>\n",
       "      <td>1979</td>\n",
       "      <td>grain_maize</td>\n",
       "      <td>yield</td>\n",
       "      <td>NaN</td>\n",
       "      <td>0</td>\n",
       "    </tr>\n",
       "    <tr>\n",
       "      <th>4</th>\n",
       "      <td>1001</td>\n",
       "      <td>Flensburg, kreisfreie Stadt</td>\n",
       "      <td>DEF01</td>\n",
       "      <td>1979</td>\n",
       "      <td>oats</td>\n",
       "      <td>area</td>\n",
       "      <td>42.0</td>\n",
       "      <td>0</td>\n",
       "    </tr>\n",
       "  </tbody>\n",
       "</table>\n",
       "</div>"
      ],
      "text/plain": [
       "   district_no                     district nuts_id  year          var  \\\n",
       "0         1001  Flensburg, kreisfreie Stadt   DEF01  1979     ArabLand   \n",
       "1         1001  Flensburg, kreisfreie Stadt   DEF01  1979     district   \n",
       "2         1001  Flensburg, kreisfreie Stadt   DEF01  1979  grain_maize   \n",
       "3         1001  Flensburg, kreisfreie Stadt   DEF01  1979  grain_maize   \n",
       "4         1001  Flensburg, kreisfreie Stadt   DEF01  1979         oats   \n",
       "\n",
       "  measure   value  outlier  \n",
       "0    area   891.0        0  \n",
       "1    area  5673.0        0  \n",
       "2    area     NaN        0  \n",
       "3   yield     NaN        0  \n",
       "4    area    42.0        0  "
      ]
     },
     "execution_count": 49,
     "metadata": {},
     "output_type": "execute_result"
    }
   ],
   "source": [
    "# print the first 5 rows of the dataframe\n",
    "data.head()"
   ]
  },
  {
   "cell_type": "code",
   "execution_count": 50,
   "metadata": {},
   "outputs": [
    {
     "data": {
      "text/html": [
       "<div>\n",
       "<style scoped>\n",
       "    .dataframe tbody tr th:only-of-type {\n",
       "        vertical-align: middle;\n",
       "    }\n",
       "\n",
       "    .dataframe tbody tr th {\n",
       "        vertical-align: top;\n",
       "    }\n",
       "\n",
       "    .dataframe thead th {\n",
       "        text-align: right;\n",
       "    }\n",
       "</style>\n",
       "<table border=\"1\" class=\"dataframe\">\n",
       "  <thead>\n",
       "    <tr style=\"text-align: right;\">\n",
       "      <th>measure</th>\n",
       "      <th>year</th>\n",
       "      <th>district_no</th>\n",
       "      <th>district</th>\n",
       "      <th>nuts_id</th>\n",
       "      <th>var</th>\n",
       "      <th>outlier</th>\n",
       "      <th>area</th>\n",
       "      <th>yield</th>\n",
       "    </tr>\n",
       "  </thead>\n",
       "  <tbody>\n",
       "    <tr>\n",
       "      <th>0</th>\n",
       "      <td>2000</td>\n",
       "      <td>1001</td>\n",
       "      <td>Flensburg, kreisfreie Stadt</td>\n",
       "      <td>DEF01</td>\n",
       "      <td>ww</td>\n",
       "      <td>0</td>\n",
       "      <td>NaN</td>\n",
       "      <td>9.86</td>\n",
       "    </tr>\n",
       "    <tr>\n",
       "      <th>1</th>\n",
       "      <td>2000</td>\n",
       "      <td>1002</td>\n",
       "      <td>Kiel, kreisfreie Stadt</td>\n",
       "      <td>DEF02</td>\n",
       "      <td>ww</td>\n",
       "      <td>0</td>\n",
       "      <td>NaN</td>\n",
       "      <td>9.78</td>\n",
       "    </tr>\n",
       "    <tr>\n",
       "      <th>2</th>\n",
       "      <td>2000</td>\n",
       "      <td>1003</td>\n",
       "      <td>Lübeck, kreisfreie Stadt</td>\n",
       "      <td>DEF03</td>\n",
       "      <td>ww</td>\n",
       "      <td>0</td>\n",
       "      <td>NaN</td>\n",
       "      <td>9.40</td>\n",
       "    </tr>\n",
       "    <tr>\n",
       "      <th>3</th>\n",
       "      <td>2000</td>\n",
       "      <td>1004</td>\n",
       "      <td>Neumünster, kreisfreie Stadt</td>\n",
       "      <td>DEF04</td>\n",
       "      <td>ww</td>\n",
       "      <td>0</td>\n",
       "      <td>NaN</td>\n",
       "      <td>7.94</td>\n",
       "    </tr>\n",
       "    <tr>\n",
       "      <th>4</th>\n",
       "      <td>2000</td>\n",
       "      <td>1051</td>\n",
       "      <td>Dithmarschen, Landkreis</td>\n",
       "      <td>DEF05</td>\n",
       "      <td>ww</td>\n",
       "      <td>0</td>\n",
       "      <td>NaN</td>\n",
       "      <td>9.72</td>\n",
       "    </tr>\n",
       "  </tbody>\n",
       "</table>\n",
       "</div>"
      ],
      "text/plain": [
       "measure  year  district_no                      district nuts_id var  outlier  \\\n",
       "0        2000         1001   Flensburg, kreisfreie Stadt   DEF01  ww        0   \n",
       "1        2000         1002        Kiel, kreisfreie Stadt   DEF02  ww        0   \n",
       "2        2000         1003      Lübeck, kreisfreie Stadt   DEF03  ww        0   \n",
       "3        2000         1004  Neumünster, kreisfreie Stadt   DEF04  ww        0   \n",
       "4        2000         1051       Dithmarschen, Landkreis   DEF05  ww        0   \n",
       "\n",
       "measure  area  yield  \n",
       "0         NaN   9.86  \n",
       "1         NaN   9.78  \n",
       "2         NaN   9.40  \n",
       "3         NaN   7.94  \n",
       "4         NaN   9.72  "
      ]
     },
     "execution_count": 50,
     "metadata": {},
     "output_type": "execute_result"
    }
   ],
   "source": [
    "# we only want to consider ww which stands for winter wheat\n",
    "data = data[data['var'] == 'ww']\n",
    "\n",
    "# and the years > 2000\n",
    "data = data[data['year'] >= 2000]\n",
    "# make to wide dataframe based on column measure and value\n",
    "data = data.pivot(index=['year', 'district_no', 'district', 'nuts_id', 'var', 'outlier'], columns='measure', values='value').reset_index()\n",
    "data.head()"
   ]
  },
  {
   "cell_type": "markdown",
   "metadata": {},
   "source": [
    "## Description of the data\n",
    "\n",
    "- **Year**: Year of observation\n",
    "- **District_no**: District number\n",
    "- **District**: District name\n",
    "- **nuts_id**: NUTS ID\n",
    "- **var**: Name of the crop in our case \"ww\" for winter wheat\n",
    "- **outlier**: Outlier flag\n",
    "- **area**: Area of the crop in ha\n",
    "- **yield**: Yield of the crop in to/ha"
   ]
  },
  {
   "cell_type": "code",
   "execution_count": 51,
   "metadata": {},
   "outputs": [
    {
     "data": {
      "image/png": "[encoded data removed]",
      "text/plain": [
       "<Figure size 1000x500 with 1 Axes>"
      ]
     },
     "metadata": {},
     "output_type": "display_data"
    }
   ],
   "source": [
    "# plot the distribution of average yield per year as barplot\n",
    "plt.figure(figsize=(10, 5))\n",
    "sns.barplot(data=data, x='year', y='yield')\n",
    "plt.xlabel('Year')\n",
    "plt.ylabel('Average Yield')\n",
    "plt.title('Distribution of Average Yield per Year')\n",
    "plt.xticks(rotation=45)  # Rotate x-axis labels by 45 degrees\n",
    "plt.tight_layout()  # Adjust the layout to prevent label overlapping\n",
    "plt.show()\n"
   ]
  },
  {
   "cell_type": "code",
   "execution_count": 52,
   "metadata": {},
   "outputs": [
    {
     "data": {
      "image/png": "[encoded data removed]",
      "text/plain": [
       "<Figure size 1000x500 with 1 Axes>"
      ]
     },
     "metadata": {},
     "output_type": "display_data"
    }
   ],
   "source": [
    "# density plot of yield add vertical line for mean and median\n",
    "\n",
    "plt.figure(figsize=(10, 5))\n",
    "sns.kdeplot(data['yield'], fill=True, color='b')\n",
    "plt.axvline(data['yield'].mean(), color='r', linestyle='--', label='Mean')\n",
    "plt.xlabel('Yield')\n",
    "plt.ylabel('Density')\n",
    "plt.title('Density Plot of Yield')\n",
    "plt.legend()\n",
    "plt.show()"
   ]
  },
  {
   "cell_type": "code",
   "execution_count": 53,
   "metadata": {},
   "outputs": [],
   "source": [
    "# identify Bundesland based on first two digits of district_no\n",
    "# if district_no has not 5 digits add leading zeros\n",
    "data['district_no'] = data['district_no'].apply(lambda x: '{0:0>5}'.format(x))\n",
    "data['bundesland'] = data['district_no'].astype(str).str[:2]"
   ]
  },
  {
   "cell_type": "code",
   "execution_count": 54,
   "metadata": {},
   "outputs": [
    {
     "data": {
      "image/png": "[encoded data removed]",
      "text/plain": [
       "<Figure size 1000x500 with 1 Axes>"
      ]
     },
     "metadata": {},
     "output_type": "display_data"
    }
   ],
   "source": [
    "# plot the distribution of average yield per year as barplot\n",
    "plt.figure(figsize=(10, 5))\n",
    "sns.barplot(data=data, x='bundesland', y='yield')\n",
    "plt.xlabel('Bundesland')\n",
    "plt.ylabel('Average Yield')\n",
    "plt.title('Distribution of Average Yield per Bundesland')\n",
    "plt.xticks(rotation=45)  # Rotate x-axis labels by 45 degrees\n",
    "plt.tight_layout()  # Adjust the layout to prevent label overlapping\n",
    "plt.show()"
   ]
  },
  {
   "cell_type": "markdown",
   "metadata": {},
   "source": [
    "### The key features of an area yield insurance are:\n",
    "\n",
    "1. Payouts are triggered if the realized county average yield falls below a predefined strike yield\n",
    "2. The payout amount is based on the difference between the realized yield and the strike yield\n",
    "3. All insured farmers in the county receive the same payout per insured unit\n",
    "\n",
    "Compared to weather index insurance, area yield insurance has the advantage that the payout is directly linked to the realized yield, which can reduce basis risk. However, it requires reliable and timely yield data at the area level."
   ]
  },
  {
   "cell_type": "markdown",
   "metadata": {},
   "source": [
    "### Detrending Yields\n",
    "To avoid biased estimates of the strike yield and expected yield, we first need to detrend the yield data to remove the effect of technological progress.\n",
    "We use a robust M-estimator for a linear trend:\n",
    "\n",
    "$$y_t = \\alpha + \\beta t + \\epsilon_t$$\n",
    "\n",
    "where $y_t$ is yield in year $t$, $\\alpha$ is the intercept, $\\beta$ is the trend slope, and $\\epsilon_t$ is the residual.\n",
    "\n",
    "The detrended yield is then:\n",
    "\n",
    "$$\\tilde{y}_t = y_t - (\\hat{\\alpha} + \\hat{\\beta} t)$$"
   ]
  },
  {
   "cell_type": "code",
   "execution_count": 55,
   "metadata": {},
   "outputs": [],
   "source": [
    "# drop na in yield\n",
    "data = data.dropna(subset=['yield'])"
   ]
  },
  {
   "cell_type": "code",
   "execution_count": 56,
   "metadata": {},
   "outputs": [],
   "source": [
    "# only consider consider districts with 22 observations\n",
    "data = data.groupby('district_no').filter(lambda x: len(x) == 22)"
   ]
  },
  {
   "cell_type": "code",
   "execution_count": 58,
   "metadata": {},
   "outputs": [
    {
     "data": {
      "text/html": [
       "<div>\n",
       "<style scoped>\n",
       "    .dataframe tbody tr th:only-of-type {\n",
       "        vertical-align: middle;\n",
       "    }\n",
       "\n",
       "    .dataframe tbody tr th {\n",
       "        vertical-align: top;\n",
       "    }\n",
       "\n",
       "    .dataframe thead th {\n",
       "        text-align: right;\n",
       "    }\n",
       "</style>\n",
       "<table border=\"1\" class=\"dataframe\">\n",
       "  <thead>\n",
       "    <tr style=\"text-align: right;\">\n",
       "      <th>measure</th>\n",
       "      <th>year</th>\n",
       "      <th>outlier</th>\n",
       "      <th>area</th>\n",
       "      <th>yield</th>\n",
       "      <th>yield_detrend</th>\n",
       "    </tr>\n",
       "  </thead>\n",
       "  <tbody>\n",
       "    <tr>\n",
       "      <th>count</th>\n",
       "      <td>5412.000000</td>\n",
       "      <td>5412.0</td>\n",
       "      <td>1208.000000</td>\n",
       "      <td>5412.000000</td>\n",
       "      <td>5.412000e+03</td>\n",
       "    </tr>\n",
       "    <tr>\n",
       "      <th>mean</th>\n",
       "      <td>2010.500000</td>\n",
       "      <td>0.0</td>\n",
       "      <td>11357.856529</td>\n",
       "      <td>7.304793</td>\n",
       "      <td>2.566724e-15</td>\n",
       "    </tr>\n",
       "    <tr>\n",
       "      <th>std</th>\n",
       "      <td>6.344875</td>\n",
       "      <td>0.0</td>\n",
       "      <td>11296.759130</td>\n",
       "      <td>1.134975</td>\n",
       "      <td>6.944332e-01</td>\n",
       "    </tr>\n",
       "    <tr>\n",
       "      <th>min</th>\n",
       "      <td>2000.000000</td>\n",
       "      <td>0.0</td>\n",
       "      <td>212.000000</td>\n",
       "      <td>2.570000</td>\n",
       "      <td>-2.777182e+00</td>\n",
       "    </tr>\n",
       "    <tr>\n",
       "      <th>25%</th>\n",
       "      <td>2005.000000</td>\n",
       "      <td>0.0</td>\n",
       "      <td>3837.730000</td>\n",
       "      <td>6.580000</td>\n",
       "      <td>-4.258978e-01</td>\n",
       "    </tr>\n",
       "    <tr>\n",
       "      <th>50%</th>\n",
       "      <td>2010.500000</td>\n",
       "      <td>0.0</td>\n",
       "      <td>7994.790000</td>\n",
       "      <td>7.300000</td>\n",
       "      <td>2.724939e-02</td>\n",
       "    </tr>\n",
       "    <tr>\n",
       "      <th>75%</th>\n",
       "      <td>2016.000000</td>\n",
       "      <td>0.0</td>\n",
       "      <td>14219.000000</td>\n",
       "      <td>8.080000</td>\n",
       "      <td>4.643662e-01</td>\n",
       "    </tr>\n",
       "    <tr>\n",
       "      <th>max</th>\n",
       "      <td>2021.000000</td>\n",
       "      <td>0.0</td>\n",
       "      <td>78441.080000</td>\n",
       "      <td>11.040000</td>\n",
       "      <td>2.326979e+00</td>\n",
       "    </tr>\n",
       "  </tbody>\n",
       "</table>\n",
       "</div>"
      ],
      "text/plain": [
       "measure         year  outlier          area        yield  yield_detrend\n",
       "count    5412.000000   5412.0   1208.000000  5412.000000   5.412000e+03\n",
       "mean     2010.500000      0.0  11357.856529     7.304793   2.566724e-15\n",
       "std         6.344875      0.0  11296.759130     1.134975   6.944332e-01\n",
       "min      2000.000000      0.0    212.000000     2.570000  -2.777182e+00\n",
       "25%      2005.000000      0.0   3837.730000     6.580000  -4.258978e-01\n",
       "50%      2010.500000      0.0   7994.790000     7.300000   2.724939e-02\n",
       "75%      2016.000000      0.0  14219.000000     8.080000   4.643662e-01\n",
       "max      2021.000000      0.0  78441.080000    11.040000   2.326979e+00"
      ]
     },
     "execution_count": 58,
     "metadata": {},
     "output_type": "execute_result"
    }
   ],
   "source": [
    "# some descriptive statistics\n",
    "data.describe()"
   ]
  },
  {
   "cell_type": "code",
   "execution_count": 59,
   "metadata": {},
   "outputs": [],
   "source": [
    "# from year 2000 to 2018 for building up the area yield model\n",
    "data_train = data[data['year'] <= 2018]\n",
    "data_test = data[data['year'] >= 2019]"
   ]
  },
  {
   "cell_type": "code",
   "execution_count": null,
   "metadata": {},
   "outputs": [],
   "source": [
    "# "
   ]
  }
 ],
 "metadata": {
  "kernelspec": {
   "display_name": "Python 3",
   "language": "python",
   "name": "python3"
  },
  "language_info": {
   "codemirror_mode": {
    "name": "ipython",
    "version": 3
   },
   "file_extension": ".py",
   "mimetype": "text/x-python",
   "name": "python",
   "nbconvert_exporter": "python",
   "pygments_lexer": "ipython3",
   "version": "3.11.2"
  }
 },
 "nbformat": 4,
 "nbformat_minor": 2
}
